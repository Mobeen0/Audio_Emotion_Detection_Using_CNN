{
 "cells": [
  {
   "cell_type": "markdown",
   "id": "920c41ee-2572-4f92-a96f-92a9f740581c",
   "metadata": {},
   "source": [
    "## Importing Libraries"
   ]
  },
  {
   "cell_type": "code",
   "execution_count": 1,
   "id": "857ecd12-dfd2-4c7f-ae86-20111c9babec",
   "metadata": {},
   "outputs": [],
   "source": [
    "import os\n",
    "import librosa\n",
    "import numpy as np\n",
    "import pandas as pd\n",
    "import matplotlib.pyplot as plt\n",
    "from sklearn.model_selection import KFold\n",
    "from sklearn.metrics import accuracy_score\n",
    "\n",
    "import tensorflow as tf\n",
    "from tensorflow import keras\n",
    "\n",
    "from keras.models import Sequential\n",
    "from keras.layers import Conv1D, MaxPooling1D\n",
    "from keras.layers import Conv2D, MaxPooling2D\n",
    "from keras.layers import Flatten, Dense,Dropout, GlobalAveragePooling1D\n",
    "from keras.utils import to_categorical\n",
    "from sklearn.model_selection import train_test_split\n",
    "from sklearn.preprocessing import StandardScaler, LabelEncoder, RobustScaler\n",
    "from scipy.ndimage import zoom\n",
    "\n",
    "from joblib import Parallel, delayed\n",
    "\n",
    "from tensorflow.keras.models import load_model"
   ]
  },
  {
   "cell_type": "markdown",
   "id": "1bcc4169-58d4-4401-bda1-f69f17d161c4",
   "metadata": {},
   "source": [
    "## PreProcessing RAVDESS and SURREY Dataset"
   ]
  },
  {
   "cell_type": "code",
   "execution_count": 2,
   "id": "88640c27-fb84-455f-a55d-20599f96467b",
   "metadata": {},
   "outputs": [],
   "source": [
    "paths = ['Confidence_Dataset','RAVDESS','SURREY','ALL']\n",
    "\n",
    "mainPath = os.path.join(paths[0],paths[1])\n",
    "actor_folders = os.listdir(mainPath)\n",
    "\n",
    "emotion_dict = {\n",
    "    1:'neutral',2:'calm',3:'happy',4:'sad',5:'angry',\n",
    "    6:'fearful',7:'disgust',8:'surprise',\n",
    "    'a':'angry','d':'disgust','f':'fearful',\n",
    "    'h':'happy','n':'neutral','sa':'sad',\n",
    "    'su':'surprise'\n",
    "    \n",
    "}\n",
    "\n",
    "X_val = []\n",
    "y_val = []\n",
    "\n",
    "emotions =[emotion_dict[i] for i in range(1,9)] # these are only the 8 unique emotions\n",
    "emotion_freq = np.array([0 for i in range(0,8)],dtype = int)\n",
    "emotion_paths = []\n",
    "emotion_name = []\n",
    "for actor_folder in actor_folders:\n",
    "    newPath = os.path.join(mainPath,actor_folder)\n",
    "    audioFiles = os.listdir(newPath)\n",
    "    for audioFile in audioFiles:\n",
    "        new_audio_path = os.path.join(newPath,audioFile)\n",
    "        emotion = audioFile[6:8]# text part of the files that contains the emotion code\n",
    "        emotion_paths.append(new_audio_path)\n",
    "        emotion_name.append(emotion_dict[int(emotion)])\n",
    "        \n",
    "surrey_folder = os.path.join(paths[0],paths[2],paths[3])\n",
    "audioFiles = os.listdir(surrey_folder)\n",
    "for audioFile in audioFiles:\n",
    "    newPath = os.path.join(surrey_folder,audioFile)\n",
    "    emotion = audioFile[3:5]# label part for emotion\n",
    "    emotion_paths.append(newPath)\n",
    "    if(emotion[0]!='s'):\n",
    "        emotion_name.append(emotion_dict[emotion[0]])\n",
    "    else:\n",
    "        emotion_name.append(emotion_dict[emotion])\n",
    "    \n",
    "\n",
    "emotion_freq = [emotion_name.count(emotion_dict[i]) for i in range(1,9)]\n",
    "\n",
    "emotion_info = pd.DataFrame({\n",
    "    'emotion':emotions,\n",
    "    'frequency':emotion_freq\n",
    "}\n",
    ")\n",
    "\n",
    "emotion_label_df = pd.DataFrame(\n",
    "    {\n",
    "        'label':emotion_name,\n",
    "        'path': emotion_paths\n",
    "    }\n",
    ")"
   ]
  },
  {
   "cell_type": "code",
   "execution_count": 3,
   "id": "2f6158b7-6748-410f-b53a-762cb989af18",
   "metadata": {},
   "outputs": [
    {
     "data": {
      "text/html": [
       "<div>\n",
       "<style scoped>\n",
       "    .dataframe tbody tr th:only-of-type {\n",
       "        vertical-align: middle;\n",
       "    }\n",
       "\n",
       "    .dataframe tbody tr th {\n",
       "        vertical-align: top;\n",
       "    }\n",
       "\n",
       "    .dataframe thead th {\n",
       "        text-align: right;\n",
       "    }\n",
       "</style>\n",
       "<table border=\"1\" class=\"dataframe\">\n",
       "  <thead>\n",
       "    <tr style=\"text-align: right;\">\n",
       "      <th></th>\n",
       "      <th>label</th>\n",
       "      <th>path</th>\n",
       "    </tr>\n",
       "  </thead>\n",
       "  <tbody>\n",
       "    <tr>\n",
       "      <th>0</th>\n",
       "      <td>neutral</td>\n",
       "      <td>Confidence_Dataset\\RAVDESS\\Actor_01\\03-01-01-0...</td>\n",
       "    </tr>\n",
       "    <tr>\n",
       "      <th>1</th>\n",
       "      <td>neutral</td>\n",
       "      <td>Confidence_Dataset\\RAVDESS\\Actor_01\\03-01-01-0...</td>\n",
       "    </tr>\n",
       "    <tr>\n",
       "      <th>2</th>\n",
       "      <td>neutral</td>\n",
       "      <td>Confidence_Dataset\\RAVDESS\\Actor_01\\03-01-01-0...</td>\n",
       "    </tr>\n",
       "    <tr>\n",
       "      <th>3</th>\n",
       "      <td>neutral</td>\n",
       "      <td>Confidence_Dataset\\RAVDESS\\Actor_01\\03-01-01-0...</td>\n",
       "    </tr>\n",
       "    <tr>\n",
       "      <th>4</th>\n",
       "      <td>calm</td>\n",
       "      <td>Confidence_Dataset\\RAVDESS\\Actor_01\\03-01-02-0...</td>\n",
       "    </tr>\n",
       "  </tbody>\n",
       "</table>\n",
       "</div>"
      ],
      "text/plain": [
       "     label                                               path\n",
       "0  neutral  Confidence_Dataset\\RAVDESS\\Actor_01\\03-01-01-0...\n",
       "1  neutral  Confidence_Dataset\\RAVDESS\\Actor_01\\03-01-01-0...\n",
       "2  neutral  Confidence_Dataset\\RAVDESS\\Actor_01\\03-01-01-0...\n",
       "3  neutral  Confidence_Dataset\\RAVDESS\\Actor_01\\03-01-01-0...\n",
       "4     calm  Confidence_Dataset\\RAVDESS\\Actor_01\\03-01-02-0..."
      ]
     },
     "execution_count": 3,
     "metadata": {},
     "output_type": "execute_result"
    }
   ],
   "source": [
    "emotion_label_df.head()"
   ]
  },
  {
   "cell_type": "markdown",
   "id": "45753e3e-b1dd-4668-95aa-7cfbaeb83c6f",
   "metadata": {},
   "source": [
    "### Dataset Spread"
   ]
  },
  {
   "cell_type": "code",
   "execution_count": 4,
   "id": "9a941310-b2c7-4ea3-bab8-da448ab3f7f0",
   "metadata": {},
   "outputs": [
    {
     "data": {
      "image/png": "[encoded data removed]",
      "text/plain": [
       "<Figure size 640x480 with 1 Axes>"
      ]
     },
     "metadata": {},
     "output_type": "display_data"
    }
   ],
   "source": [
    "plt.title('Distribution of Emotions')\n",
    "plt.xlabel('Emotions')\n",
    "plt.ylabel('Frequency')\n",
    "plt.grid(axis='y',linestyle='-', alpha = 0.7, zorder= 0)\n",
    "plt.gca().set_facecolor('#f5f5f5')\n",
    "\n",
    "cmap = plt.get_cmap('viridis')\n",
    "colors = cmap(np.linspace(0,1,len(emotion_info['frequency'])))\n",
    "\n",
    "\n",
    "\n",
    "bars = plt.bar(emotion_info['emotion'],emotion_info['frequency'],color = colors, zorder=2,edgecolor='black')\n",
    "counter =0\n",
    "for bar in bars:\n",
    "    height = bar.get_height()\n",
    "    countVal = emotion_info['frequency'][counter]\n",
    "    plt.text(bar.get_x()+bar.get_width()/2.0, height,f'{countVal}',ha='center',va='bottom')\n",
    "    counter+=1\n",
    "\n",
    "plt.show()"
   ]
  },
  {
   "cell_type": "markdown",
   "id": "1842a4e8-918b-44bd-b00d-11a25ef59d7f",
   "metadata": {},
   "source": [
    "## Extracting Features"
   ]
  },
  {
   "cell_type": "code",
   "execution_count": 5,
   "id": "1b046577-7fb7-4b5c-ad0a-059e4281522e",
   "metadata": {},
   "outputs": [],
   "source": [
    "class FeatureExtract:\n",
    "    def __init__(self,frame_length=2048,hop_length=512):\n",
    "        self.frame_length = frame_length\n",
    "        self.hop_length = hop_length\n",
    "    def zcr(self,data):\n",
    "        return librosa.feature.zero_crossing_rate(data,frame_length = self.frame_length, hop_length = self.hop_length).flatten()\n",
    "    def rmse(self,data):\n",
    "        return librosa.feature.rms(y=data,frame_length = self.frame_length, hop_length = self.hop_length).flatten()\n",
    "    def mfcc(self, data,sr, n_mfcc=13, flatten = True):\n",
    "        mfcc_features = librosa.feature.mfcc(y=data, sr=sr, n_mfcc = n_mfcc, hop_length= self.hop_length)\n",
    "        return mfcc_features.T.flatten() if flatten else mfcc_features.T\n",
    "    def chroma(self,data,sr):\n",
    "        chroma_features = librosa.feature.chroma_stft(y=data,sr=sr,hop_length = self.hop_length)\n",
    "        return chroma_features.T.flatten()\n",
    "    def spectral_contrast(self,data,sr):\n",
    "        contrast_features = librosa.feature.spectral_contrast(y=data,sr=sr,hop_length=self.hop_length)\n",
    "        return contrast_features.T.flatten()\n",
    "    def mel_spectrogram(self, data,sr):\n",
    "        mel_features = librosa.feature.melspectrogram(y=data,sr=sr,hop_length = self.hop_length)\n",
    "        return librosa.power_to_db(mel_features).flatten()\n",
    "    def extract_features(self,data,sr):\n",
    "        zcr_features = self.zcr(data)\n",
    "        rmse_features = self.rmse(data)\n",
    "        mfcc_features = self.mfcc(data,sr)\n",
    "        chroma_features = self.chroma(data,sr)\n",
    "        spectral_contrast_features = self.spectral_contrast(data,sr)\n",
    "        mel_spectrogram_features = self.mel_spectrogram(data,sr)\n",
    "        return np.concatenate(\n",
    "            [\n",
    "                zcr_features,\n",
    "                rmse_features,\n",
    "                mfcc_features,\n",
    "                chroma_features,\n",
    "                spectral_contrast_features,\n",
    "                mel_spectrogram_features\n",
    "            ]\n",
    "        )"
   ]
  },
  {
   "cell_type": "markdown",
   "id": "2e87a525-ecca-408a-9024-c130513c844f",
   "metadata": {},
   "source": [
    "## Data Augmentation"
   ]
  },
  {
   "cell_type": "code",
   "execution_count": 6,
   "id": "80a6bba4-d515-4783-8509-7396880cd03a",
   "metadata": {},
   "outputs": [],
   "source": [
    "class DataAugmentation:\n",
    "    @staticmethod\n",
    "    def noise(data, noise_factor=0.005):\n",
    "        noise_amp = noise_factor * np.random.uniform() * np.amax(data)\n",
    "        return data + noise_amp * np.random.normal(size=data.shape[0])\n",
    "\n",
    "    @staticmethod\n",
    "    def pitch(data, sr, n_steps=4):\n",
    "        return librosa.effects.pitch_shift(y=data, sr=sr, n_steps=n_steps)"
   ]
  },
  {
   "cell_type": "markdown",
   "id": "b077c4d2-2bc4-4b1a-8b1c-95b4ecf07d7a",
   "metadata": {},
   "source": [
    "## Reading Audio Files"
   ]
  },
  {
   "cell_type": "code",
   "execution_count": 7,
   "id": "938dc797-b8d8-4b11-b925-8a61a84cabd1",
   "metadata": {},
   "outputs": [],
   "source": [
    "class AudioProcessor:\n",
    "    def __init__(self, frame_length=2048, hop_length=512):\n",
    "        self.feature_extractor = FeatureExtract(frame_length, hop_length)\n",
    "        self.augmenter = DataAugmentation()\n",
    "\n",
    "    def get_features(self, path, duration=2.5, offset=0.6):\n",
    "        data, sr = librosa.load(path, duration=duration, offset=offset)\n",
    "        features = [self.feature_extractor.extract_features(data, sr)]\n",
    "        \n",
    "        noised_audio = self.augmenter.noise(data)\n",
    "        features.append(self.feature_extractor.extract_features(noised_audio, sr))\n",
    "\n",
    "        pitched_audio = self.augmenter.pitch(data, sr)\n",
    "        features.append(self.feature_extractor.extract_features(pitched_audio, sr))\n",
    "\n",
    "        pitched_noised_audio = self.augmenter.noise(pitched_audio)\n",
    "        features.append(self.feature_extractor.extract_features(pitched_noised_audio, sr))\n",
    "\n",
    "        return np.array(features)\n",
    "\n",
    "    def process_feature(self, path, emotion):\n",
    "        features = self.get_features(path)\n",
    "        X = features.tolist()\n",
    "        Y = [emotion] * len(features)\n",
    "        return X, Y\n",
    "\n",
    "    def process_dataset(self, df, n_jobs=-1):\n",
    "        paths = df['path'].values\n",
    "        emotions = df['label'].values\n",
    "\n",
    "        results = Parallel(n_jobs=n_jobs)(delayed(self.process_feature)(path, emotion) for path, emotion in zip(paths, emotions))\n",
    "\n",
    "        X, Y = [], []\n",
    "        for result in results:\n",
    "            X.extend(result[0])\n",
    "            Y.extend(result[1])\n",
    "\n",
    "        # Padding or truncating sequences to the same length\n",
    "        max_len = max(len(x) for x in X)\n",
    "        X = np.array([np.pad(x, (0, max_len - len(x)), 'constant') if len(x) < max_len else x[:max_len] for x in X])\n",
    "\n",
    "        return X, np.array(Y)\n",
    "\n",
    "\n",
    "processor = AudioProcessor()"
   ]
  },
  {
   "cell_type": "code",
   "execution_count": 16,
   "id": "6fd9d3c1-2862-42d2-8fc3-9b47bad37c41",
   "metadata": {},
   "outputs": [],
   "source": [
    "X, y = processor.process_dataset(emotion_label_df) # if data not available then call this\n",
    "\n",
    "def normalize(val,min_val,range_val):\n",
    "    return (val-min_val) / range_val\n",
    "    \n",
    "min_vals = [np.min(X[i]) for i in range(0,X.shape[0])]\n",
    "max_vals = [np.max(X[i]) for i in range(0,X.shape[0])]\n",
    "ranges_val = [max_vals[i] - min_vals[i] for i in range(0,len(min_vals))]\n",
    "\n",
    "for i in range(X.shape[0]): # my own normalization method\n",
    "    X[i] = np.array([normalize(X[i][c],min_vals[i],ranges_val[i]) for c in range(X.shape[1])])\n",
    "# scaler = RobustScaler()\n",
    "# X = scaler.fit_transform(X)\n",
    "\n",
    "label_encoder = LabelEncoder()\n",
    "y = label_encoder.fit_transform(y)\n",
    "y = to_categorical(y,num_classes = 8)\n",
    "\n",
    "np.savez(os.path.join('ProcessedData','X_y.npz'), Inputs=X, Labels=y) # commented cause already saved pre process data\n",
    "\n",
    "for i, class_name in enumerate(label_encoder.classes_):\n",
    "    print(f\"{i} -> {class_name}\")\n"
   ]
  },
  {
   "cell_type": "markdown",
   "id": "448c86d3-1ee9-4814-b9fd-cd6521aac710",
   "metadata": {},
   "source": [
    "## Test Train Splits"
   ]
  },
  {
   "cell_type": "code",
   "execution_count": 18,
   "id": "66a11ed2-3c2a-426f-bbff-a15adb3aad44",
   "metadata": {},
   "outputs": [],
   "source": [
    "X_train, X_test, y_train, y_test = train_test_split(X, y, \n",
    "                                                    test_size=0.1, \n",
    "                                                    random_state=42)\n",
    "X_train, X_valid, y_train, y_valid = train_test_split(X_train,y_train,\n",
    "                                                       test_size = 0.1,\n",
    "                                                       random_state=42)"
   ]
  },
  {
   "cell_type": "code",
   "execution_count": 19,
   "id": "698a3283-79ba-4aa7-949b-5ed24528bc27",
   "metadata": {},
   "outputs": [
    {
     "name": "stdout",
     "output_type": "stream",
     "text": [
      "(6220, 17496, 1, 1) (768, 17496, 1, 1) (692, 17496, 1, 1)\n"
     ]
    }
   ],
   "source": [
    "X_train = X_train.reshape((X_train.shape[0],X_train.shape[1],1,1))\n",
    "X_test = X_test.reshape((X_test.shape[0],X_test.shape[1],1,1))\n",
    "X_valid = X_valid.reshape((X_valid.shape[0],X_valid.shape[1],1,1))\n",
    "\n",
    "print(X_train.shape,X_test.shape,X_valid.shape)"
   ]
  },
  {
   "cell_type": "markdown",
   "id": "4e3d9d80-4427-495b-8292-287776620f0a",
   "metadata": {},
   "source": [
    "## Define the Model"
   ]
  },
  {
   "cell_type": "code",
   "execution_count": 20,
   "id": "3d3682ac-0ab4-4bc1-bed0-57dfc45397e0",
   "metadata": {},
   "outputs": [],
   "source": [
    "def createModel(input_size, num_classes =8):\n",
    "    num_filters = [24,32,64,128] \n",
    "    pool_size = (2, 1) \n",
    "    kernel_size = (3, 3)  \n",
    "    keras.backend.clear_session()\n",
    "    \n",
    "    model = Sequential()\n",
    "    model.add(Conv2D(16,kernel_size,input_shape= input_size, activation= 'relu', padding ='same'))\n",
    "    model.add(MaxPooling2D(pool_size, padding ='same'))\n",
    "\n",
    "    model.add(Conv2D(32,pool_size, activation= 'relu', padding ='same'))\n",
    "    model.add(MaxPooling2D(pool_size, padding ='same'))\n",
    "\n",
    "    model.add(Conv2D(64,kernel_size, activation= 'relu', padding ='same'))\n",
    "    model.add(MaxPooling2D(pool_size, padding ='same'))\n",
    "\n",
    "    model.add(Flatten())\n",
    "    \n",
    "    model.add(Dense(64, activation= 'relu')) \n",
    "\n",
    "    model.add(Dense(num_classes, activation=\"softmax\"))\n",
    "    \n",
    "    return model\n"
   ]
  },
  {
   "cell_type": "code",
   "execution_count": 21,
   "id": "62071a7c-8c48-40c9-aa49-407c525593f7",
   "metadata": {},
   "outputs": [
    {
     "name": "stderr",
     "output_type": "stream",
     "text": [
      "C:\\Python311\\Lib\\site-packages\\keras\\src\\layers\\convolutional\\base_conv.py:107: UserWarning: Do not pass an `input_shape`/`input_dim` argument to a layer. When using Sequential models, prefer using an `Input(shape)` object as the first layer in the model instead.\n",
      "  super().__init__(activity_regularizer=activity_regularizer, **kwargs)\n"
     ]
    },
    {
     "data": {
      "text/html": [
       "<pre style=\"white-space:pre;overflow-x:auto;line-height:normal;font-family:Menlo,'DejaVu Sans Mono',consolas,'Courier New',monospace\"><span style=\"font-weight: bold\">Model: \"sequential\"</span>\n",
       "</pre>\n"
      ],
      "text/plain": [
       "\u001b[1mModel: \"sequential\"\u001b[0m\n"
      ]
     },
     "metadata": {},
     "output_type": "display_data"
    },
    {
     "data": {
      "text/html": [
       "<pre style=\"white-space:pre;overflow-x:auto;line-height:normal;font-family:Menlo,'DejaVu Sans Mono',consolas,'Courier New',monospace\">┏━━━━━━━━━━━━━━━━━━━━━━━━━━━━━━━━━━━━━━┳━━━━━━━━━━━━━━━━━━━━━━━━━━━━━┳━━━━━━━━━━━━━━━━━┓\n",
       "┃<span style=\"font-weight: bold\"> Layer (type)                         </span>┃<span style=\"font-weight: bold\"> Output Shape                </span>┃<span style=\"font-weight: bold\">         Param # </span>┃\n",
       "┡━━━━━━━━━━━━━━━━━━━━━━━━━━━━━━━━━━━━━━╇━━━━━━━━━━━━━━━━━━━━━━━━━━━━━╇━━━━━━━━━━━━━━━━━┩\n",
       "│ conv2d (<span style=\"color: #0087ff; text-decoration-color: #0087ff\">Conv2D</span>)                      │ (<span style=\"color: #00d7ff; text-decoration-color: #00d7ff\">None</span>, <span style=\"color: #00af00; text-decoration-color: #00af00\">17496</span>, <span style=\"color: #00af00; text-decoration-color: #00af00\">1</span>, <span style=\"color: #00af00; text-decoration-color: #00af00\">16</span>)        │             <span style=\"color: #00af00; text-decoration-color: #00af00\">160</span> │\n",
       "├──────────────────────────────────────┼─────────────────────────────┼─────────────────┤\n",
       "│ max_pooling2d (<span style=\"color: #0087ff; text-decoration-color: #0087ff\">MaxPooling2D</span>)         │ (<span style=\"color: #00d7ff; text-decoration-color: #00d7ff\">None</span>, <span style=\"color: #00af00; text-decoration-color: #00af00\">8748</span>, <span style=\"color: #00af00; text-decoration-color: #00af00\">1</span>, <span style=\"color: #00af00; text-decoration-color: #00af00\">16</span>)         │               <span style=\"color: #00af00; text-decoration-color: #00af00\">0</span> │\n",
       "├──────────────────────────────────────┼─────────────────────────────┼─────────────────┤\n",
       "│ conv2d_1 (<span style=\"color: #0087ff; text-decoration-color: #0087ff\">Conv2D</span>)                    │ (<span style=\"color: #00d7ff; text-decoration-color: #00d7ff\">None</span>, <span style=\"color: #00af00; text-decoration-color: #00af00\">8748</span>, <span style=\"color: #00af00; text-decoration-color: #00af00\">1</span>, <span style=\"color: #00af00; text-decoration-color: #00af00\">32</span>)         │           <span style=\"color: #00af00; text-decoration-color: #00af00\">1,056</span> │\n",
       "├──────────────────────────────────────┼─────────────────────────────┼─────────────────┤\n",
       "│ max_pooling2d_1 (<span style=\"color: #0087ff; text-decoration-color: #0087ff\">MaxPooling2D</span>)       │ (<span style=\"color: #00d7ff; text-decoration-color: #00d7ff\">None</span>, <span style=\"color: #00af00; text-decoration-color: #00af00\">4374</span>, <span style=\"color: #00af00; text-decoration-color: #00af00\">1</span>, <span style=\"color: #00af00; text-decoration-color: #00af00\">32</span>)         │               <span style=\"color: #00af00; text-decoration-color: #00af00\">0</span> │\n",
       "├──────────────────────────────────────┼─────────────────────────────┼─────────────────┤\n",
       "│ conv2d_2 (<span style=\"color: #0087ff; text-decoration-color: #0087ff\">Conv2D</span>)                    │ (<span style=\"color: #00d7ff; text-decoration-color: #00d7ff\">None</span>, <span style=\"color: #00af00; text-decoration-color: #00af00\">4374</span>, <span style=\"color: #00af00; text-decoration-color: #00af00\">1</span>, <span style=\"color: #00af00; text-decoration-color: #00af00\">64</span>)         │          <span style=\"color: #00af00; text-decoration-color: #00af00\">18,496</span> │\n",
       "├──────────────────────────────────────┼─────────────────────────────┼─────────────────┤\n",
       "│ max_pooling2d_2 (<span style=\"color: #0087ff; text-decoration-color: #0087ff\">MaxPooling2D</span>)       │ (<span style=\"color: #00d7ff; text-decoration-color: #00d7ff\">None</span>, <span style=\"color: #00af00; text-decoration-color: #00af00\">2187</span>, <span style=\"color: #00af00; text-decoration-color: #00af00\">1</span>, <span style=\"color: #00af00; text-decoration-color: #00af00\">64</span>)         │               <span style=\"color: #00af00; text-decoration-color: #00af00\">0</span> │\n",
       "├──────────────────────────────────────┼─────────────────────────────┼─────────────────┤\n",
       "│ flatten (<span style=\"color: #0087ff; text-decoration-color: #0087ff\">Flatten</span>)                    │ (<span style=\"color: #00d7ff; text-decoration-color: #00d7ff\">None</span>, <span style=\"color: #00af00; text-decoration-color: #00af00\">139968</span>)              │               <span style=\"color: #00af00; text-decoration-color: #00af00\">0</span> │\n",
       "├──────────────────────────────────────┼─────────────────────────────┼─────────────────┤\n",
       "│ dense (<span style=\"color: #0087ff; text-decoration-color: #0087ff\">Dense</span>)                        │ (<span style=\"color: #00d7ff; text-decoration-color: #00d7ff\">None</span>, <span style=\"color: #00af00; text-decoration-color: #00af00\">64</span>)                  │       <span style=\"color: #00af00; text-decoration-color: #00af00\">8,958,016</span> │\n",
       "├──────────────────────────────────────┼─────────────────────────────┼─────────────────┤\n",
       "│ dense_1 (<span style=\"color: #0087ff; text-decoration-color: #0087ff\">Dense</span>)                      │ (<span style=\"color: #00d7ff; text-decoration-color: #00d7ff\">None</span>, <span style=\"color: #00af00; text-decoration-color: #00af00\">8</span>)                   │             <span style=\"color: #00af00; text-decoration-color: #00af00\">520</span> │\n",
       "└──────────────────────────────────────┴─────────────────────────────┴─────────────────┘\n",
       "</pre>\n"
      ],
      "text/plain": [
       "┏━━━━━━━━━━━━━━━━━━━━━━━━━━━━━━━━━━━━━━┳━━━━━━━━━━━━━━━━━━━━━━━━━━━━━┳━━━━━━━━━━━━━━━━━┓\n",
       "┃\u001b[1m \u001b[0m\u001b[1mLayer (type)                        \u001b[0m\u001b[1m \u001b[0m┃\u001b[1m \u001b[0m\u001b[1mOutput Shape               \u001b[0m\u001b[1m \u001b[0m┃\u001b[1m \u001b[0m\u001b[1m        Param #\u001b[0m\u001b[1m \u001b[0m┃\n",
       "┡━━━━━━━━━━━━━━━━━━━━━━━━━━━━━━━━━━━━━━╇━━━━━━━━━━━━━━━━━━━━━━━━━━━━━╇━━━━━━━━━━━━━━━━━┩\n",
       "│ conv2d (\u001b[38;5;33mConv2D\u001b[0m)                      │ (\u001b[38;5;45mNone\u001b[0m, \u001b[38;5;34m17496\u001b[0m, \u001b[38;5;34m1\u001b[0m, \u001b[38;5;34m16\u001b[0m)        │             \u001b[38;5;34m160\u001b[0m │\n",
       "├──────────────────────────────────────┼─────────────────────────────┼─────────────────┤\n",
       "│ max_pooling2d (\u001b[38;5;33mMaxPooling2D\u001b[0m)         │ (\u001b[38;5;45mNone\u001b[0m, \u001b[38;5;34m8748\u001b[0m, \u001b[38;5;34m1\u001b[0m, \u001b[38;5;34m16\u001b[0m)         │               \u001b[38;5;34m0\u001b[0m │\n",
       "├──────────────────────────────────────┼─────────────────────────────┼─────────────────┤\n",
       "│ conv2d_1 (\u001b[38;5;33mConv2D\u001b[0m)                    │ (\u001b[38;5;45mNone\u001b[0m, \u001b[38;5;34m8748\u001b[0m, \u001b[38;5;34m1\u001b[0m, \u001b[38;5;34m32\u001b[0m)         │           \u001b[38;5;34m1,056\u001b[0m │\n",
       "├──────────────────────────────────────┼─────────────────────────────┼─────────────────┤\n",
       "│ max_pooling2d_1 (\u001b[38;5;33mMaxPooling2D\u001b[0m)       │ (\u001b[38;5;45mNone\u001b[0m, \u001b[38;5;34m4374\u001b[0m, \u001b[38;5;34m1\u001b[0m, \u001b[38;5;34m32\u001b[0m)         │               \u001b[38;5;34m0\u001b[0m │\n",
       "├──────────────────────────────────────┼─────────────────────────────┼─────────────────┤\n",
       "│ conv2d_2 (\u001b[38;5;33mConv2D\u001b[0m)                    │ (\u001b[38;5;45mNone\u001b[0m, \u001b[38;5;34m4374\u001b[0m, \u001b[38;5;34m1\u001b[0m, \u001b[38;5;34m64\u001b[0m)         │          \u001b[38;5;34m18,496\u001b[0m │\n",
       "├──────────────────────────────────────┼─────────────────────────────┼─────────────────┤\n",
       "│ max_pooling2d_2 (\u001b[38;5;33mMaxPooling2D\u001b[0m)       │ (\u001b[38;5;45mNone\u001b[0m, \u001b[38;5;34m2187\u001b[0m, \u001b[38;5;34m1\u001b[0m, \u001b[38;5;34m64\u001b[0m)         │               \u001b[38;5;34m0\u001b[0m │\n",
       "├──────────────────────────────────────┼─────────────────────────────┼─────────────────┤\n",
       "│ flatten (\u001b[38;5;33mFlatten\u001b[0m)                    │ (\u001b[38;5;45mNone\u001b[0m, \u001b[38;5;34m139968\u001b[0m)              │               \u001b[38;5;34m0\u001b[0m │\n",
       "├──────────────────────────────────────┼─────────────────────────────┼─────────────────┤\n",
       "│ dense (\u001b[38;5;33mDense\u001b[0m)                        │ (\u001b[38;5;45mNone\u001b[0m, \u001b[38;5;34m64\u001b[0m)                  │       \u001b[38;5;34m8,958,016\u001b[0m │\n",
       "├──────────────────────────────────────┼─────────────────────────────┼─────────────────┤\n",
       "│ dense_1 (\u001b[38;5;33mDense\u001b[0m)                      │ (\u001b[38;5;45mNone\u001b[0m, \u001b[38;5;34m8\u001b[0m)                   │             \u001b[38;5;34m520\u001b[0m │\n",
       "└──────────────────────────────────────┴─────────────────────────────┴─────────────────┘\n"
      ]
     },
     "metadata": {},
     "output_type": "display_data"
    },
    {
     "data": {
      "text/html": [
       "<pre style=\"white-space:pre;overflow-x:auto;line-height:normal;font-family:Menlo,'DejaVu Sans Mono',consolas,'Courier New',monospace\"><span style=\"font-weight: bold\"> Total params: </span><span style=\"color: #00af00; text-decoration-color: #00af00\">8,978,248</span> (34.25 MB)\n",
       "</pre>\n"
      ],
      "text/plain": [
       "\u001b[1m Total params: \u001b[0m\u001b[38;5;34m8,978,248\u001b[0m (34.25 MB)\n"
      ]
     },
     "metadata": {},
     "output_type": "display_data"
    },
    {
     "data": {
      "text/html": [
       "<pre style=\"white-space:pre;overflow-x:auto;line-height:normal;font-family:Menlo,'DejaVu Sans Mono',consolas,'Courier New',monospace\"><span style=\"font-weight: bold\"> Trainable params: </span><span style=\"color: #00af00; text-decoration-color: #00af00\">8,978,248</span> (34.25 MB)\n",
       "</pre>\n"
      ],
      "text/plain": [
       "\u001b[1m Trainable params: \u001b[0m\u001b[38;5;34m8,978,248\u001b[0m (34.25 MB)\n"
      ]
     },
     "metadata": {},
     "output_type": "display_data"
    },
    {
     "data": {
      "text/html": [
       "<pre style=\"white-space:pre;overflow-x:auto;line-height:normal;font-family:Menlo,'DejaVu Sans Mono',consolas,'Courier New',monospace\"><span style=\"font-weight: bold\"> Non-trainable params: </span><span style=\"color: #00af00; text-decoration-color: #00af00\">0</span> (0.00 B)\n",
       "</pre>\n"
      ],
      "text/plain": [
       "\u001b[1m Non-trainable params: \u001b[0m\u001b[38;5;34m0\u001b[0m (0.00 B)\n"
      ]
     },
     "metadata": {},
     "output_type": "display_data"
    }
   ],
   "source": [
    "model = createModel(X_train[0].shape,8)\n",
    "model.compile(optimizer='adam', loss='categorical_crossentropy', metrics=['accuracy'])\n",
    "model.summary()"
   ]
  },
  {
   "cell_type": "code",
   "execution_count": null,
   "id": "3ddeb53b-22d7-4fb4-8de2-a2b033455ccf",
   "metadata": {},
   "outputs": [],
   "source": [
    "history = model.fit(X_train,y_train,epochs=100,\n",
    "                    batch_size=16,validation_data=(X_valid,y_valid))"
   ]
  },
  {
   "cell_type": "code",
   "execution_count": 30,
   "id": "c1d2442e-318a-4eca-a7b5-90cbe0738250",
   "metadata": {},
   "outputs": [
    {
     "name": "stdout",
     "output_type": "stream",
     "text": [
      "\u001b[1m24/24\u001b[0m \u001b[32m━━━━━━━━━━━━━━━━━━━━\u001b[0m\u001b[37m\u001b[0m \u001b[1m1s\u001b[0m 52ms/step - accuracy: 0.9004 - loss: 0.5167\n",
      "0.5229227542877197\n",
      "0.90625\n"
     ]
    }
   ],
   "source": [
    "test_loss, test_accuracy = model.evaluate(X_test, y_test)\n",
    "print(test_loss)\n",
    "print(test_accuracy)"
   ]
  },
  {
   "cell_type": "code",
   "execution_count": 31,
   "id": "23503b8c-291c-40bc-abb0-4f1ddd901ab6",
   "metadata": {},
   "outputs": [],
   "source": [
    "model.save('SelfNormalizationModel.keras') # optional If you want to save"
   ]
  },
  {
   "cell_type": "code",
   "execution_count": null,
   "id": "ed3b540a-2922-468a-96de-f0cf35a441e1",
   "metadata": {},
   "outputs": [],
   "source": [
    "test_loss, test_accuracy = model.evaluate(X_test, y_test)"
   ]
  },
  {
   "cell_type": "code",
   "execution_count": null,
   "id": "4f9989f7-cc48-41da-9cb2-86326e41e50d",
   "metadata": {},
   "outputs": [],
   "source": []
  }
 ],
 "metadata": {
  "kernelspec": {
   "display_name": "Python 3 (ipykernel)",
   "language": "python",
   "name": "python3"
  },
  "language_info": {
   "codemirror_mode": {
    "name": "ipython",
    "version": 3
   },
   "file_extension": ".py",
   "mimetype": "text/x-python",
   "name": "python",
   "nbconvert_exporter": "python",
   "pygments_lexer": "ipython3",
   "version": "3.11.4"
  }
 },
 "nbformat": 4,
 "nbformat_minor": 5
}
